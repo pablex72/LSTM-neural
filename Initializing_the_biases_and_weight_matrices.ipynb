{
  "nbformat": 4,
  "nbformat_minor": 0,
  "metadata": {
    "colab": {
      "provenance": [],
      "authorship_tag": "ABX9TyN9lFwOrT7Syicfu5xs8U8J",
      "include_colab_link": true
    },
    "kernelspec": {
      "name": "python3",
      "display_name": "Python 3"
    },
    "language_info": {
      "name": "python"
    }
  },
  "cells": [
    {
      "cell_type": "markdown",
      "metadata": {
        "id": "view-in-github",
        "colab_type": "text"
      },
      "source": [
        "<a href=\"https://colab.research.google.com/github/pablex72/LSTM-neural/blob/init-imlementation/Initializing_the_biases_and_weight_matrices.ipynb\" target=\"_parent\"><img src=\"https://colab.research.google.com/assets/colab-badge.svg\" alt=\"Open In Colab\"/></a>"
      ]
    },
    {
      "cell_type": "code",
      "execution_count": null,
      "metadata": {
        "id": "htrq0U91KXHz"
      },
      "outputs": [],
      "source": [
        "#Step 2: Initializing the biases and weight matrices\n",
        "\n",
        "class LstmParam:\n",
        "    def __init__(self, mem_cell_ct, x_dim):\n",
        "        self.mem_cell_ct = mem_cell_ct\n",
        "        self.x_dim = x_dim\n",
        "        concat_len = x_dim + mem_cell_ct\n",
        "        # weight matrices\n",
        "        self.wg = rand_arr(-0.1, 0.1, mem_cell_ct, concat_len)\n",
        "        self.wi = rand_arr(-0.1, 0.1, mem_cell_ct, concat_len) \n",
        "        self.wf = rand_arr(-0.1, 0.1, mem_cell_ct, concat_len)\n",
        "        self.wo = rand_arr(-0.1, 0.1, mem_cell_ct, concat_len)\n",
        "        # bias terms\n",
        "        self.bg = rand_arr(-0.1, 0.1, mem_cell_ct) \n",
        "        self.bi = rand_arr(-0.1, 0.1, mem_cell_ct) \n",
        "        self.bf = rand_arr(-0.1, 0.1, mem_cell_ct) \n",
        "        self.bo = rand_arr(-0.1, 0.1, mem_cell_ct) \n",
        "        # diffs (derivative of loss function w.r.t. all parameters)\n",
        "        self.wg_diff = np.zeros((mem_cell_ct, concat_len)) \n",
        "        self.wi_diff = np.zeros((mem_cell_ct, concat_len)) \n",
        "        self.wf_diff = np.zeros((mem_cell_ct, concat_len)) \n",
        "        self.wo_diff = np.zeros((mem_cell_ct, concat_len)) \n",
        "        self.bg_diff = np.zeros(mem_cell_ct) \n",
        "        self.bi_diff = np.zeros(mem_cell_ct) \n",
        "        self.bf_diff = np.zeros(mem_cell_ct) \n",
        "        self.bo_diff = np.zeros(mem_cell_ct)"
      ]
    }
  ]
}