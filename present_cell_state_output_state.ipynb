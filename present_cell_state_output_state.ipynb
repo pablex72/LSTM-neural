{
  "nbformat": 4,
  "nbformat_minor": 0,
  "metadata": {
    "colab": {
      "provenance": [],
      "authorship_tag": "ABX9TyP93Z3QWK2UiLoj8JG7+dzr",
      "include_colab_link": true
    },
    "kernelspec": {
      "name": "python3",
      "display_name": "Python 3"
    },
    "language_info": {
      "name": "python"
    }
  },
  "cells": [
    {
      "cell_type": "markdown",
      "metadata": {
        "id": "view-in-github",
        "colab_type": "text"
      },
      "source": [
        "<a href=\"https://colab.research.google.com/github/pablex72/LSTM-neural/blob/main/present_cell_state_output_state.ipynb\" target=\"_parent\"><img src=\"https://colab.research.google.com/assets/colab-badge.svg\" alt=\"Open In Colab\"/></a>"
      ]
    },
    {
      "cell_type": "code",
      "execution_count": null,
      "metadata": {
        "id": "5wXc-29ks3Q-"
      },
      "outputs": [],
      "source": [
        "#Step 5: Calculate the present cell state\n",
        "\n",
        "#to calculate the present state\n",
        "self.state.s = self.state.g * self.state.i + s_prev * self.state.f\n",
        "#Step 6: Calculate the output state\n",
        "\n",
        "#to calculate the output state\n",
        "self.state.o = sigmoid(np.dot(self.param.wo, xc) + self.param.bo)\n",
        "#output state h\n",
        "self.state.h = self.state.s * self.state.o"
      ]
    }
  ]
}