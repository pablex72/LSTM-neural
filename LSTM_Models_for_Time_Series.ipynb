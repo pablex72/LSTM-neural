{
  "nbformat": 4,
  "nbformat_minor": 0,
  "metadata": {
    "colab": {
      "provenance": [],
      "authorship_tag": "ABX9TyMWmh5Fvu5Sheek4VP/I1KD",
      "include_colab_link": true
    },
    "kernelspec": {
      "name": "python3",
      "display_name": "Python 3"
    },
    "language_info": {
      "name": "python"
    }
  },
  "cells": [
    {
      "cell_type": "markdown",
      "metadata": {
        "id": "view-in-github",
        "colab_type": "text"
      },
      "source": [
        "<a href=\"https://colab.research.google.com/github/pablex72/LSTM-neural/blob/main/LSTM_Models_for_Time_Series.ipynb\" target=\"_parent\"><img src=\"https://colab.research.google.com/assets/colab-badge.svg\" alt=\"Open In Colab\"/></a>"
      ]
    },
    {
      "cell_type": "code",
      "execution_count": 1,
      "metadata": {
        "colab": {
          "base_uri": "https://localhost:8080/",
          "height": 130
        },
        "id": "HKGUvilX50ho",
        "outputId": "5a878684-db42-47c7-9957-deb38039ba33"
      },
      "outputs": [
        {
          "output_type": "error",
          "ename": "IndentationError",
          "evalue": "ignored",
          "traceback": [
            "\u001b[0;36m  File \u001b[0;32m\"<ipython-input-1-addbfbffca07>\"\u001b[0;36m, line \u001b[0;32m6\u001b[0m\n\u001b[0;31m    end_ix = i + n_steps\u001b[0m\n\u001b[0m    ^\u001b[0m\n\u001b[0;31mIndentationError\u001b[0m\u001b[0;31m:\u001b[0m expected an indented block\n"
          ]
        }
      ],
      "source": [
        "\n",
        "# split a univariate sequence into samples\n",
        "def split_sequence(sequence, n_steps):\n",
        " X, y = list(), list()\n",
        " for i in range(len(sequence)):\n",
        " # find the end of this pattern\n",
        " end_ix = i + n_steps\n",
        " # check if we are beyond the sequence\n",
        " if end_ix > len(sequence)-1:\n",
        " break\n",
        " # gather input and output parts of the pattern\n",
        " seq_x, seq_y = sequence[i:end_ix], sequence[end_ix]\n",
        " X.append(seq_x)\n",
        " y.append(seq_y)\n",
        " return array(X), array(y)"
      ]
    }
  ]
}