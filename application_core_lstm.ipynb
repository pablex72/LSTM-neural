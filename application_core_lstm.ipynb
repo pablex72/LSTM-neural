{
  "nbformat": 4,
  "nbformat_minor": 0,
  "metadata": {
    "colab": {
      "provenance": [],
      "authorship_tag": "ABX9TyMvT8KCjN8pQ3OEnbkkN6j3",
      "include_colab_link": true
    },
    "kernelspec": {
      "name": "python3",
      "display_name": "Python 3"
    },
    "language_info": {
      "name": "python"
    }
  },
  "cells": [
    {
      "cell_type": "markdown",
      "metadata": {
        "id": "view-in-github",
        "colab_type": "text"
      },
      "source": [
        "<a href=\"https://colab.research.google.com/github/pablex72/LSTM-neural/blob/main/application_core_lstm.ipynb\" target=\"_parent\"><img src=\"https://colab.research.google.com/assets/colab-badge.svg\" alt=\"Open In Colab\"/></a>"
      ]
    },
    {
      "cell_type": "code",
      "execution_count": null,
      "metadata": {
        "id": "YNoZ8yAkt0Iq"
      },
      "outputs": [],
      "source": [
        "def RNN(x, weights, biases):\n",
        "\n",
        "    # reshape to [1, n_input]\n",
        "    x = tf.reshape(x, [-1, n_input])\n",
        "\n",
        "    # Generate a n_input-element sequence of inputs\n",
        "    # (eg. [had] [a] [general] -> [20] [6] [33])\n",
        "    x = tf.split(x,n_input,1)\n",
        "\n",
        "    # 1-layer LSTM with n_hidden units.\n",
        "    rnn_cell = rnn.BasicLSTMCell(n_hidden)\n",
        "\n",
        "    # generate prediction\n",
        "    outputs, states = rnn.static_rnn(rnn_cell, x, dtype=tf.float32)\n",
        "\n",
        "    # there are n_input outputs but\n",
        "    # we only want the last output\n",
        "    return tf.matmul(outputs[-1], weights['out']) + biases['out']"
      ]
    }
  ]
}