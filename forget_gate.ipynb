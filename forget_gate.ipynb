{
  "nbformat": 4,
  "nbformat_minor": 0,
  "metadata": {
    "colab": {
      "provenance": [],
      "authorship_tag": "ABX9TyO4vMsgO5pTjO01sfNodgoQ",
      "include_colab_link": true
    },
    "kernelspec": {
      "name": "python3",
      "display_name": "Python 3"
    },
    "language_info": {
      "name": "python"
    }
  },
  "cells": [
    {
      "cell_type": "markdown",
      "metadata": {
        "id": "view-in-github",
        "colab_type": "text"
      },
      "source": [
        "<a href=\"https://colab.research.google.com/github/pablex72/LSTM-neural/blob/init-imlementation/forget_gate.ipynb\" target=\"_parent\"><img src=\"https://colab.research.google.com/assets/colab-badge.svg\" alt=\"Open In Colab\"/></a>"
      ]
    },
    {
      "cell_type": "code",
      "execution_count": null,
      "metadata": {
        "id": "QsyeU0ZAOZKz"
      },
      "outputs": [],
      "source": [
        "#Step 3: Multiplying forget gate with last cell state to forget irrelevant tokens\n",
        "\n",
        "#stacking x(present input xt) and h(t-1)\n",
        "xc = np.hstack((x,  h_prev))\n",
        "#dot product of Wf(forget weight matrix and xc +bias)\n",
        "self.state.f = sigmoid(np.dot(self.param.wf, xc) + self.param.bf)\n",
        "#finally multiplying forget_gate(self.state.f) with previous cell state(s_prev) \n",
        "#to get present state.\n",
        "self.state.s = self.state.g * self.state.i + s_prev * self.state.f"
      ]
    }
  ]
}