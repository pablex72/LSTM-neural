{
  "nbformat": 4,
  "nbformat_minor": 0,
  "metadata": {
    "colab": {
      "provenance": [],
      "authorship_tag": "ABX9TyMxaz8KGENUXaZhWFdsQfg6",
      "include_colab_link": true
    },
    "kernelspec": {
      "name": "python3",
      "display_name": "Python 3"
    },
    "language_info": {
      "name": "python"
    }
  },
  "cells": [
    {
      "cell_type": "markdown",
      "metadata": {
        "id": "view-in-github",
        "colab_type": "text"
      },
      "source": [
        "<a href=\"https://colab.research.google.com/github/pablex72/LSTM-neural/blob/init-imlementation/dependencies_and__activation__function.ipynb\" target=\"_parent\"><img src=\"https://colab.research.google.com/assets/colab-badge.svg\" alt=\"Open In Colab\"/></a>"
      ]
    },
    {
      "cell_type": "code",
      "execution_count": 1,
      "metadata": {
        "colab": {
          "base_uri": "https://localhost:8080/",
          "height": 130
        },
        "id": "B3u9O-wmYOfP",
        "outputId": "42ccf375-377d-4a47-96fb-2f66af66f7a9"
      },
      "outputs": [
        {
          "output_type": "error",
          "ename": "SyntaxError",
          "evalue": "ignored",
          "traceback": [
            "\u001b[0;36m  File \u001b[0;32m\"<ipython-input-1-9f9c76ef2f5d>\"\u001b[0;36m, line \u001b[0;32m14\u001b[0m\n\u001b[0;31m    return np.random.rand(*args) * (b - a) +\u001b[0m\n\u001b[0m                                             ^\u001b[0m\n\u001b[0;31mSyntaxError\u001b[0m\u001b[0;31m:\u001b[0m invalid syntax\n"
          ]
        }
      ],
      "source": [
        "#analyticsvidhya\n",
        "import random\n",
        "import numpy as np\n",
        "import math\n",
        "def sigmoid(x): \n",
        "    return 1. / (1 + np.exp(-x))\n",
        "def sigmoid_derivative(values): \n",
        "    return values*(1-values)\n",
        "def tanh_derivative(values): \n",
        "    return 1. - values ** 2\n",
        "# createst uniform random array w/ values in [a,b) and shape args\n",
        "def rand_arr(a, b, *args): \n",
        "    np.random.seed(0)\n",
        "    return np.random.rand(*args) * (b - a) + "
      ]
    }
  ]
}